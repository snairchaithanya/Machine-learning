{
 "cells": [
  {
   "cell_type": "markdown",
   "id": "76e828a5-5cef-4aff-90b2-9ad61e027869",
   "metadata": {},
   "source": [
    "# <div class=\"alert alert-block alert-success\" dir=\"rtl\" style=\"text-align: center;\"><strong><span style=\"font-size: 20pt\">REGRESSION <br /></span></strong></div>"
   ]
  },
  {
   "cell_type": "markdown",
   "id": "16d1171e-a154-49de-80f4-47b3bcb9c5fc",
   "metadata": {},
   "source": [
    "### <font color='Green'> <u>Problem Description </u>:</font>\n",
    "A Chinese automobile company aspires to enter the US market by setting up their manufacturing unit there and producing cars locally to give competition to their US and European counterparts. They have contracted an automobile consulting company to understand the factors on which the pricing of cars depends. Specifically, they want to understand the factors affecting the pricing of cars in the American market, since those may be very different from the Chinese market. The company wants to know:\n",
    "\n",
    "1. **Which variables are significant in predicting the price of a car.**\n",
    "   - Identify the key factors that influence car pricing, such as engine size, mileage, brand, etc.\n",
    "   \n",
    "2. **How well those variables describe the price of a car.**\n",
    "   - Determine the strength and relevance of these factors in accurately predicting the car's price.\n",
    "  \n",
    "Based on various market surveys, the consulting firm has gathered a large dataset of different types of cars across the American market.\n",
    "#### <font color='Green'><u> Business Goal</u></font>\n",
    "You are required to model the price of cars with the available independent variables. It will be used by the management to understand how exactly the prices vary with the independent variables. They can accordingly manipulate the design of the cars, the business strategy etc. to meet certain price levels. Further, the model will be a good way for the management to\n"
   ]
  },
  {
   "cell_type": "markdown",
   "id": "23b2c7f6-267e-4b31-b3c3-e4fd0921d0f1",
   "metadata": {},
   "source": [
    "#### <font color='Red'>1. <u>Understand Problem Statement</u></font>"
   ]
  },
  {
   "cell_type": "markdown",
   "id": "d9bead59-5b82-4534-92f5-420785ddfffc",
   "metadata": {},
   "source": [
    "1. **Clarify the business goal: Predict car prices using independent variables and understand which factors significantly impact the price.The target variable (also known as the dependent variable or response variable) is the variable that you want to predict.Here it is the price**\n",
    "2. **Emphasize the importance of understanding the pricing dynamics to aid the company's strategic decisions in a new market.**\n"
   ]
  },
  {
   "cell_type": "markdown",
   "id": "d044837f-617f-4269-b699-e75c950e556a",
   "metadata": {},
   "source": [
    "#### <font color='Red'>2. <u>Import Necessary Libraries and Data</u></font>"
   ]
  },
  {
   "cell_type": "markdown",
   "id": "fab45e85-f18b-4e19-9af7-e09d0aeab9ab",
   "metadata": {},
   "source": [
    " <b>Import common libraries: pandas, numpy, matplotlib, seaborn, sklearn</b>"
   ]
  },
  {
   "cell_type": "code",
   "execution_count": 49,
   "id": "abde9f9b-438b-41ab-9c3e-dd0f8c8a60e0",
   "metadata": {},
   "outputs": [],
   "source": [
    "import pandas as pd\n",
    "import numpy as np\n",
    "import matplotlib.pyplot as plt\n",
    "import seaborn as sns\n",
    "from sklearn.model_selection import train_test_split\n",
    "from sklearn.preprocessing import LabelEncoder\n",
    "from sklearn.linear_model import LinearRegression\n",
    "from sklearn.tree import DecisionTreeRegressor\n",
    "from sklearn.ensemble import RandomForestRegressor, GradientBoostingRegressor\n",
    "from sklearn.svm import SVR\n",
    "from sklearn.metrics import mean_squared_error, r2_score"
   ]
  },
  {
   "cell_type": "markdown",
   "id": "06e76ea8-b3d9-457f-8d28-9340814c0750",
   "metadata": {},
   "source": [
    " <b>Load the dataset and display the first few rows to understand its structure.</b>"
   ]
  },
  {
   "cell_type": "code",
   "execution_count": 2,
   "id": "131539fb-2a3c-4119-b077-330e335de89a",
   "metadata": {},
   "outputs": [
    {
     "data": {
      "text/html": [
       "<div>\n",
       "<style scoped>\n",
       "    .dataframe tbody tr th:only-of-type {\n",
       "        vertical-align: middle;\n",
       "    }\n",
       "\n",
       "    .dataframe tbody tr th {\n",
       "        vertical-align: top;\n",
       "    }\n",
       "\n",
       "    .dataframe thead th {\n",
       "        text-align: right;\n",
       "    }\n",
       "</style>\n",
       "<table border=\"1\" class=\"dataframe\">\n",
       "  <thead>\n",
       "    <tr style=\"text-align: right;\">\n",
       "      <th></th>\n",
       "      <th>car_ID</th>\n",
       "      <th>symboling</th>\n",
       "      <th>CarName</th>\n",
       "      <th>fueltype</th>\n",
       "      <th>aspiration</th>\n",
       "      <th>doornumber</th>\n",
       "      <th>carbody</th>\n",
       "      <th>drivewheel</th>\n",
       "      <th>enginelocation</th>\n",
       "      <th>wheelbase</th>\n",
       "      <th>...</th>\n",
       "      <th>enginesize</th>\n",
       "      <th>fuelsystem</th>\n",
       "      <th>boreratio</th>\n",
       "      <th>stroke</th>\n",
       "      <th>compressionratio</th>\n",
       "      <th>horsepower</th>\n",
       "      <th>peakrpm</th>\n",
       "      <th>citympg</th>\n",
       "      <th>highwaympg</th>\n",
       "      <th>price</th>\n",
       "    </tr>\n",
       "  </thead>\n",
       "  <tbody>\n",
       "    <tr>\n",
       "      <th>0</th>\n",
       "      <td>1</td>\n",
       "      <td>3</td>\n",
       "      <td>alfa-romero giulia</td>\n",
       "      <td>gas</td>\n",
       "      <td>std</td>\n",
       "      <td>two</td>\n",
       "      <td>convertible</td>\n",
       "      <td>rwd</td>\n",
       "      <td>front</td>\n",
       "      <td>88.6</td>\n",
       "      <td>...</td>\n",
       "      <td>130</td>\n",
       "      <td>mpfi</td>\n",
       "      <td>3.47</td>\n",
       "      <td>2.68</td>\n",
       "      <td>9.0</td>\n",
       "      <td>111</td>\n",
       "      <td>5000</td>\n",
       "      <td>21</td>\n",
       "      <td>27</td>\n",
       "      <td>13495.0</td>\n",
       "    </tr>\n",
       "    <tr>\n",
       "      <th>1</th>\n",
       "      <td>2</td>\n",
       "      <td>3</td>\n",
       "      <td>alfa-romero stelvio</td>\n",
       "      <td>gas</td>\n",
       "      <td>std</td>\n",
       "      <td>two</td>\n",
       "      <td>convertible</td>\n",
       "      <td>rwd</td>\n",
       "      <td>front</td>\n",
       "      <td>88.6</td>\n",
       "      <td>...</td>\n",
       "      <td>130</td>\n",
       "      <td>mpfi</td>\n",
       "      <td>3.47</td>\n",
       "      <td>2.68</td>\n",
       "      <td>9.0</td>\n",
       "      <td>111</td>\n",
       "      <td>5000</td>\n",
       "      <td>21</td>\n",
       "      <td>27</td>\n",
       "      <td>16500.0</td>\n",
       "    </tr>\n",
       "    <tr>\n",
       "      <th>2</th>\n",
       "      <td>3</td>\n",
       "      <td>1</td>\n",
       "      <td>alfa-romero Quadrifoglio</td>\n",
       "      <td>gas</td>\n",
       "      <td>std</td>\n",
       "      <td>two</td>\n",
       "      <td>hatchback</td>\n",
       "      <td>rwd</td>\n",
       "      <td>front</td>\n",
       "      <td>94.5</td>\n",
       "      <td>...</td>\n",
       "      <td>152</td>\n",
       "      <td>mpfi</td>\n",
       "      <td>2.68</td>\n",
       "      <td>3.47</td>\n",
       "      <td>9.0</td>\n",
       "      <td>154</td>\n",
       "      <td>5000</td>\n",
       "      <td>19</td>\n",
       "      <td>26</td>\n",
       "      <td>16500.0</td>\n",
       "    </tr>\n",
       "    <tr>\n",
       "      <th>3</th>\n",
       "      <td>4</td>\n",
       "      <td>2</td>\n",
       "      <td>audi 100 ls</td>\n",
       "      <td>gas</td>\n",
       "      <td>std</td>\n",
       "      <td>four</td>\n",
       "      <td>sedan</td>\n",
       "      <td>fwd</td>\n",
       "      <td>front</td>\n",
       "      <td>99.8</td>\n",
       "      <td>...</td>\n",
       "      <td>109</td>\n",
       "      <td>mpfi</td>\n",
       "      <td>3.19</td>\n",
       "      <td>3.40</td>\n",
       "      <td>10.0</td>\n",
       "      <td>102</td>\n",
       "      <td>5500</td>\n",
       "      <td>24</td>\n",
       "      <td>30</td>\n",
       "      <td>13950.0</td>\n",
       "    </tr>\n",
       "    <tr>\n",
       "      <th>4</th>\n",
       "      <td>5</td>\n",
       "      <td>2</td>\n",
       "      <td>audi 100ls</td>\n",
       "      <td>gas</td>\n",
       "      <td>std</td>\n",
       "      <td>four</td>\n",
       "      <td>sedan</td>\n",
       "      <td>4wd</td>\n",
       "      <td>front</td>\n",
       "      <td>99.4</td>\n",
       "      <td>...</td>\n",
       "      <td>136</td>\n",
       "      <td>mpfi</td>\n",
       "      <td>3.19</td>\n",
       "      <td>3.40</td>\n",
       "      <td>8.0</td>\n",
       "      <td>115</td>\n",
       "      <td>5500</td>\n",
       "      <td>18</td>\n",
       "      <td>22</td>\n",
       "      <td>17450.0</td>\n",
       "    </tr>\n",
       "    <tr>\n",
       "      <th>...</th>\n",
       "      <td>...</td>\n",
       "      <td>...</td>\n",
       "      <td>...</td>\n",
       "      <td>...</td>\n",
       "      <td>...</td>\n",
       "      <td>...</td>\n",
       "      <td>...</td>\n",
       "      <td>...</td>\n",
       "      <td>...</td>\n",
       "      <td>...</td>\n",
       "      <td>...</td>\n",
       "      <td>...</td>\n",
       "      <td>...</td>\n",
       "      <td>...</td>\n",
       "      <td>...</td>\n",
       "      <td>...</td>\n",
       "      <td>...</td>\n",
       "      <td>...</td>\n",
       "      <td>...</td>\n",
       "      <td>...</td>\n",
       "      <td>...</td>\n",
       "    </tr>\n",
       "    <tr>\n",
       "      <th>200</th>\n",
       "      <td>201</td>\n",
       "      <td>-1</td>\n",
       "      <td>volvo 145e (sw)</td>\n",
       "      <td>gas</td>\n",
       "      <td>std</td>\n",
       "      <td>four</td>\n",
       "      <td>sedan</td>\n",
       "      <td>rwd</td>\n",
       "      <td>front</td>\n",
       "      <td>109.1</td>\n",
       "      <td>...</td>\n",
       "      <td>141</td>\n",
       "      <td>mpfi</td>\n",
       "      <td>3.78</td>\n",
       "      <td>3.15</td>\n",
       "      <td>9.5</td>\n",
       "      <td>114</td>\n",
       "      <td>5400</td>\n",
       "      <td>23</td>\n",
       "      <td>28</td>\n",
       "      <td>16845.0</td>\n",
       "    </tr>\n",
       "    <tr>\n",
       "      <th>201</th>\n",
       "      <td>202</td>\n",
       "      <td>-1</td>\n",
       "      <td>volvo 144ea</td>\n",
       "      <td>gas</td>\n",
       "      <td>turbo</td>\n",
       "      <td>four</td>\n",
       "      <td>sedan</td>\n",
       "      <td>rwd</td>\n",
       "      <td>front</td>\n",
       "      <td>109.1</td>\n",
       "      <td>...</td>\n",
       "      <td>141</td>\n",
       "      <td>mpfi</td>\n",
       "      <td>3.78</td>\n",
       "      <td>3.15</td>\n",
       "      <td>8.7</td>\n",
       "      <td>160</td>\n",
       "      <td>5300</td>\n",
       "      <td>19</td>\n",
       "      <td>25</td>\n",
       "      <td>19045.0</td>\n",
       "    </tr>\n",
       "    <tr>\n",
       "      <th>202</th>\n",
       "      <td>203</td>\n",
       "      <td>-1</td>\n",
       "      <td>volvo 244dl</td>\n",
       "      <td>gas</td>\n",
       "      <td>std</td>\n",
       "      <td>four</td>\n",
       "      <td>sedan</td>\n",
       "      <td>rwd</td>\n",
       "      <td>front</td>\n",
       "      <td>109.1</td>\n",
       "      <td>...</td>\n",
       "      <td>173</td>\n",
       "      <td>mpfi</td>\n",
       "      <td>3.58</td>\n",
       "      <td>2.87</td>\n",
       "      <td>8.8</td>\n",
       "      <td>134</td>\n",
       "      <td>5500</td>\n",
       "      <td>18</td>\n",
       "      <td>23</td>\n",
       "      <td>21485.0</td>\n",
       "    </tr>\n",
       "    <tr>\n",
       "      <th>203</th>\n",
       "      <td>204</td>\n",
       "      <td>-1</td>\n",
       "      <td>volvo 246</td>\n",
       "      <td>diesel</td>\n",
       "      <td>turbo</td>\n",
       "      <td>four</td>\n",
       "      <td>sedan</td>\n",
       "      <td>rwd</td>\n",
       "      <td>front</td>\n",
       "      <td>109.1</td>\n",
       "      <td>...</td>\n",
       "      <td>145</td>\n",
       "      <td>idi</td>\n",
       "      <td>3.01</td>\n",
       "      <td>3.40</td>\n",
       "      <td>23.0</td>\n",
       "      <td>106</td>\n",
       "      <td>4800</td>\n",
       "      <td>26</td>\n",
       "      <td>27</td>\n",
       "      <td>22470.0</td>\n",
       "    </tr>\n",
       "    <tr>\n",
       "      <th>204</th>\n",
       "      <td>205</td>\n",
       "      <td>-1</td>\n",
       "      <td>volvo 264gl</td>\n",
       "      <td>gas</td>\n",
       "      <td>turbo</td>\n",
       "      <td>four</td>\n",
       "      <td>sedan</td>\n",
       "      <td>rwd</td>\n",
       "      <td>front</td>\n",
       "      <td>109.1</td>\n",
       "      <td>...</td>\n",
       "      <td>141</td>\n",
       "      <td>mpfi</td>\n",
       "      <td>3.78</td>\n",
       "      <td>3.15</td>\n",
       "      <td>9.5</td>\n",
       "      <td>114</td>\n",
       "      <td>5400</td>\n",
       "      <td>19</td>\n",
       "      <td>25</td>\n",
       "      <td>22625.0</td>\n",
       "    </tr>\n",
       "  </tbody>\n",
       "</table>\n",
       "<p>205 rows × 26 columns</p>\n",
       "</div>"
      ],
      "text/plain": [
       "     car_ID  symboling                   CarName fueltype aspiration  \\\n",
       "0         1          3        alfa-romero giulia      gas        std   \n",
       "1         2          3       alfa-romero stelvio      gas        std   \n",
       "2         3          1  alfa-romero Quadrifoglio      gas        std   \n",
       "3         4          2               audi 100 ls      gas        std   \n",
       "4         5          2                audi 100ls      gas        std   \n",
       "..      ...        ...                       ...      ...        ...   \n",
       "200     201         -1           volvo 145e (sw)      gas        std   \n",
       "201     202         -1               volvo 144ea      gas      turbo   \n",
       "202     203         -1               volvo 244dl      gas        std   \n",
       "203     204         -1                 volvo 246   diesel      turbo   \n",
       "204     205         -1               volvo 264gl      gas      turbo   \n",
       "\n",
       "    doornumber      carbody drivewheel enginelocation  wheelbase  ...  \\\n",
       "0          two  convertible        rwd          front       88.6  ...   \n",
       "1          two  convertible        rwd          front       88.6  ...   \n",
       "2          two    hatchback        rwd          front       94.5  ...   \n",
       "3         four        sedan        fwd          front       99.8  ...   \n",
       "4         four        sedan        4wd          front       99.4  ...   \n",
       "..         ...          ...        ...            ...        ...  ...   \n",
       "200       four        sedan        rwd          front      109.1  ...   \n",
       "201       four        sedan        rwd          front      109.1  ...   \n",
       "202       four        sedan        rwd          front      109.1  ...   \n",
       "203       four        sedan        rwd          front      109.1  ...   \n",
       "204       four        sedan        rwd          front      109.1  ...   \n",
       "\n",
       "     enginesize  fuelsystem  boreratio  stroke compressionratio horsepower  \\\n",
       "0           130        mpfi       3.47    2.68              9.0        111   \n",
       "1           130        mpfi       3.47    2.68              9.0        111   \n",
       "2           152        mpfi       2.68    3.47              9.0        154   \n",
       "3           109        mpfi       3.19    3.40             10.0        102   \n",
       "4           136        mpfi       3.19    3.40              8.0        115   \n",
       "..          ...         ...        ...     ...              ...        ...   \n",
       "200         141        mpfi       3.78    3.15              9.5        114   \n",
       "201         141        mpfi       3.78    3.15              8.7        160   \n",
       "202         173        mpfi       3.58    2.87              8.8        134   \n",
       "203         145         idi       3.01    3.40             23.0        106   \n",
       "204         141        mpfi       3.78    3.15              9.5        114   \n",
       "\n",
       "     peakrpm citympg  highwaympg    price  \n",
       "0       5000      21          27  13495.0  \n",
       "1       5000      21          27  16500.0  \n",
       "2       5000      19          26  16500.0  \n",
       "3       5500      24          30  13950.0  \n",
       "4       5500      18          22  17450.0  \n",
       "..       ...     ...         ...      ...  \n",
       "200     5400      23          28  16845.0  \n",
       "201     5300      19          25  19045.0  \n",
       "202     5500      18          23  21485.0  \n",
       "203     4800      26          27  22470.0  \n",
       "204     5400      19          25  22625.0  \n",
       "\n",
       "[205 rows x 26 columns]"
      ]
     },
     "execution_count": 2,
     "metadata": {},
     "output_type": "execute_result"
    }
   ],
   "source": [
    "df = pd.read_csv('CarPrice.csv')\n",
    "df"
   ]
  },
  {
   "cell_type": "markdown",
   "id": "a58715a8-9a3b-4246-b30b-104697088f78",
   "metadata": {},
   "source": [
    "#### <font color='Red'>3. <u>Check the Data</u></font>"
   ]
  },
  {
   "cell_type": "markdown",
   "id": "596f516c-64d6-4b1c-9dc9-fa582bc87e4f",
   "metadata": {},
   "source": [
    "<b>To check data types and missing values.</b>"
   ]
  },
  {
   "cell_type": "code",
   "execution_count": 55,
   "id": "4505fc18-95ef-456d-99c9-9fbb43e16bd4",
   "metadata": {},
   "outputs": [
    {
     "name": "stdout",
     "output_type": "stream",
     "text": [
      "<class 'pandas.core.frame.DataFrame'>\n",
      "RangeIndex: 205 entries, 0 to 204\n",
      "Data columns (total 25 columns):\n",
      " #   Column            Non-Null Count  Dtype  \n",
      "---  ------            --------------  -----  \n",
      " 0   symboling         205 non-null    int64  \n",
      " 1   fueltype          205 non-null    int32  \n",
      " 2   aspiration        205 non-null    int32  \n",
      " 3   doornumber        205 non-null    int32  \n",
      " 4   carbody           205 non-null    int32  \n",
      " 5   drivewheel        205 non-null    int32  \n",
      " 6   enginelocation    205 non-null    int32  \n",
      " 7   wheelbase         205 non-null    float64\n",
      " 8   carlength         205 non-null    float64\n",
      " 9   carwidth          205 non-null    float64\n",
      " 10  carheight         205 non-null    float64\n",
      " 11  curbweight        205 non-null    int64  \n",
      " 12  enginetype        205 non-null    int32  \n",
      " 13  cylindernumber    205 non-null    int32  \n",
      " 14  enginesize        205 non-null    int64  \n",
      " 15  fuelsystem        205 non-null    int32  \n",
      " 16  boreratio         205 non-null    float64\n",
      " 17  stroke            205 non-null    float64\n",
      " 18  compressionratio  205 non-null    float64\n",
      " 19  horsepower        205 non-null    int64  \n",
      " 20  peakrpm           205 non-null    int64  \n",
      " 21  citympg           205 non-null    int64  \n",
      " 22  highwaympg        205 non-null    int64  \n",
      " 23  price             205 non-null    float64\n",
      " 24  company           205 non-null    int32  \n",
      "dtypes: float64(8), int32(10), int64(7)\n",
      "memory usage: 32.2 KB\n"
     ]
    }
   ],
   "source": [
    "df.info()"
   ]
  },
  {
   "cell_type": "markdown",
   "id": "c963701f-98dc-4d2f-b739-08631f6520d9",
   "metadata": {},
   "source": [
    "<b>Statistics Summary.</b>"
   ]
  },
  {
   "cell_type": "code",
   "execution_count": 56,
   "id": "f0d32865-c27d-44ca-b0ef-c1d56b1acdab",
   "metadata": {},
   "outputs": [
    {
     "data": {
      "text/html": [
       "<div>\n",
       "<style scoped>\n",
       "    .dataframe tbody tr th:only-of-type {\n",
       "        vertical-align: middle;\n",
       "    }\n",
       "\n",
       "    .dataframe tbody tr th {\n",
       "        vertical-align: top;\n",
       "    }\n",
       "\n",
       "    .dataframe thead th {\n",
       "        text-align: right;\n",
       "    }\n",
       "</style>\n",
       "<table border=\"1\" class=\"dataframe\">\n",
       "  <thead>\n",
       "    <tr style=\"text-align: right;\">\n",
       "      <th></th>\n",
       "      <th>symboling</th>\n",
       "      <th>fueltype</th>\n",
       "      <th>aspiration</th>\n",
       "      <th>doornumber</th>\n",
       "      <th>carbody</th>\n",
       "      <th>drivewheel</th>\n",
       "      <th>enginelocation</th>\n",
       "      <th>wheelbase</th>\n",
       "      <th>carlength</th>\n",
       "      <th>carwidth</th>\n",
       "      <th>...</th>\n",
       "      <th>fuelsystem</th>\n",
       "      <th>boreratio</th>\n",
       "      <th>stroke</th>\n",
       "      <th>compressionratio</th>\n",
       "      <th>horsepower</th>\n",
       "      <th>peakrpm</th>\n",
       "      <th>citympg</th>\n",
       "      <th>highwaympg</th>\n",
       "      <th>price</th>\n",
       "      <th>company</th>\n",
       "    </tr>\n",
       "  </thead>\n",
       "  <tbody>\n",
       "    <tr>\n",
       "      <th>count</th>\n",
       "      <td>205.000000</td>\n",
       "      <td>205.000000</td>\n",
       "      <td>205.000000</td>\n",
       "      <td>205.000000</td>\n",
       "      <td>205.000000</td>\n",
       "      <td>205.000000</td>\n",
       "      <td>205.000000</td>\n",
       "      <td>205.000000</td>\n",
       "      <td>205.000000</td>\n",
       "      <td>205.000000</td>\n",
       "      <td>...</td>\n",
       "      <td>205.000000</td>\n",
       "      <td>205.000000</td>\n",
       "      <td>205.000000</td>\n",
       "      <td>205.000000</td>\n",
       "      <td>205.000000</td>\n",
       "      <td>205.000000</td>\n",
       "      <td>205.000000</td>\n",
       "      <td>205.000000</td>\n",
       "      <td>205.000000</td>\n",
       "      <td>205.000000</td>\n",
       "    </tr>\n",
       "    <tr>\n",
       "      <th>mean</th>\n",
       "      <td>0.834146</td>\n",
       "      <td>0.902439</td>\n",
       "      <td>0.180488</td>\n",
       "      <td>0.439024</td>\n",
       "      <td>2.614634</td>\n",
       "      <td>1.326829</td>\n",
       "      <td>0.014634</td>\n",
       "      <td>98.756585</td>\n",
       "      <td>174.049268</td>\n",
       "      <td>65.907805</td>\n",
       "      <td>...</td>\n",
       "      <td>3.253659</td>\n",
       "      <td>3.329756</td>\n",
       "      <td>3.255415</td>\n",
       "      <td>10.142537</td>\n",
       "      <td>104.117073</td>\n",
       "      <td>5125.121951</td>\n",
       "      <td>25.219512</td>\n",
       "      <td>30.751220</td>\n",
       "      <td>13276.710571</td>\n",
       "      <td>11.580488</td>\n",
       "    </tr>\n",
       "    <tr>\n",
       "      <th>std</th>\n",
       "      <td>1.245307</td>\n",
       "      <td>0.297446</td>\n",
       "      <td>0.385535</td>\n",
       "      <td>0.497483</td>\n",
       "      <td>0.859081</td>\n",
       "      <td>0.556171</td>\n",
       "      <td>0.120377</td>\n",
       "      <td>6.021776</td>\n",
       "      <td>12.337289</td>\n",
       "      <td>2.145204</td>\n",
       "      <td>...</td>\n",
       "      <td>2.013204</td>\n",
       "      <td>0.270844</td>\n",
       "      <td>0.313597</td>\n",
       "      <td>3.972040</td>\n",
       "      <td>39.544167</td>\n",
       "      <td>476.985643</td>\n",
       "      <td>6.542142</td>\n",
       "      <td>6.886443</td>\n",
       "      <td>7988.852332</td>\n",
       "      <td>6.881320</td>\n",
       "    </tr>\n",
       "    <tr>\n",
       "      <th>min</th>\n",
       "      <td>-2.000000</td>\n",
       "      <td>0.000000</td>\n",
       "      <td>0.000000</td>\n",
       "      <td>0.000000</td>\n",
       "      <td>0.000000</td>\n",
       "      <td>0.000000</td>\n",
       "      <td>0.000000</td>\n",
       "      <td>86.600000</td>\n",
       "      <td>141.100000</td>\n",
       "      <td>60.300000</td>\n",
       "      <td>...</td>\n",
       "      <td>0.000000</td>\n",
       "      <td>2.540000</td>\n",
       "      <td>2.070000</td>\n",
       "      <td>7.000000</td>\n",
       "      <td>48.000000</td>\n",
       "      <td>4150.000000</td>\n",
       "      <td>13.000000</td>\n",
       "      <td>16.000000</td>\n",
       "      <td>5118.000000</td>\n",
       "      <td>0.000000</td>\n",
       "    </tr>\n",
       "    <tr>\n",
       "      <th>25%</th>\n",
       "      <td>0.000000</td>\n",
       "      <td>1.000000</td>\n",
       "      <td>0.000000</td>\n",
       "      <td>0.000000</td>\n",
       "      <td>2.000000</td>\n",
       "      <td>1.000000</td>\n",
       "      <td>0.000000</td>\n",
       "      <td>94.500000</td>\n",
       "      <td>166.300000</td>\n",
       "      <td>64.100000</td>\n",
       "      <td>...</td>\n",
       "      <td>1.000000</td>\n",
       "      <td>3.150000</td>\n",
       "      <td>3.110000</td>\n",
       "      <td>8.600000</td>\n",
       "      <td>70.000000</td>\n",
       "      <td>4800.000000</td>\n",
       "      <td>19.000000</td>\n",
       "      <td>25.000000</td>\n",
       "      <td>7788.000000</td>\n",
       "      <td>6.000000</td>\n",
       "    </tr>\n",
       "    <tr>\n",
       "      <th>50%</th>\n",
       "      <td>1.000000</td>\n",
       "      <td>1.000000</td>\n",
       "      <td>0.000000</td>\n",
       "      <td>0.000000</td>\n",
       "      <td>3.000000</td>\n",
       "      <td>1.000000</td>\n",
       "      <td>0.000000</td>\n",
       "      <td>97.000000</td>\n",
       "      <td>173.200000</td>\n",
       "      <td>65.500000</td>\n",
       "      <td>...</td>\n",
       "      <td>5.000000</td>\n",
       "      <td>3.310000</td>\n",
       "      <td>3.290000</td>\n",
       "      <td>9.000000</td>\n",
       "      <td>95.000000</td>\n",
       "      <td>5200.000000</td>\n",
       "      <td>24.000000</td>\n",
       "      <td>30.000000</td>\n",
       "      <td>10295.000000</td>\n",
       "      <td>12.000000</td>\n",
       "    </tr>\n",
       "    <tr>\n",
       "      <th>75%</th>\n",
       "      <td>2.000000</td>\n",
       "      <td>1.000000</td>\n",
       "      <td>0.000000</td>\n",
       "      <td>1.000000</td>\n",
       "      <td>3.000000</td>\n",
       "      <td>2.000000</td>\n",
       "      <td>0.000000</td>\n",
       "      <td>102.400000</td>\n",
       "      <td>183.100000</td>\n",
       "      <td>66.900000</td>\n",
       "      <td>...</td>\n",
       "      <td>5.000000</td>\n",
       "      <td>3.580000</td>\n",
       "      <td>3.410000</td>\n",
       "      <td>9.400000</td>\n",
       "      <td>116.000000</td>\n",
       "      <td>5500.000000</td>\n",
       "      <td>30.000000</td>\n",
       "      <td>34.000000</td>\n",
       "      <td>16503.000000</td>\n",
       "      <td>19.000000</td>\n",
       "    </tr>\n",
       "    <tr>\n",
       "      <th>max</th>\n",
       "      <td>3.000000</td>\n",
       "      <td>1.000000</td>\n",
       "      <td>1.000000</td>\n",
       "      <td>1.000000</td>\n",
       "      <td>4.000000</td>\n",
       "      <td>2.000000</td>\n",
       "      <td>1.000000</td>\n",
       "      <td>120.900000</td>\n",
       "      <td>208.100000</td>\n",
       "      <td>72.300000</td>\n",
       "      <td>...</td>\n",
       "      <td>7.000000</td>\n",
       "      <td>3.940000</td>\n",
       "      <td>4.170000</td>\n",
       "      <td>23.000000</td>\n",
       "      <td>288.000000</td>\n",
       "      <td>6600.000000</td>\n",
       "      <td>49.000000</td>\n",
       "      <td>54.000000</td>\n",
       "      <td>45400.000000</td>\n",
       "      <td>21.000000</td>\n",
       "    </tr>\n",
       "  </tbody>\n",
       "</table>\n",
       "<p>8 rows × 25 columns</p>\n",
       "</div>"
      ],
      "text/plain": [
       "        symboling    fueltype  aspiration  doornumber     carbody  drivewheel  \\\n",
       "count  205.000000  205.000000  205.000000  205.000000  205.000000  205.000000   \n",
       "mean     0.834146    0.902439    0.180488    0.439024    2.614634    1.326829   \n",
       "std      1.245307    0.297446    0.385535    0.497483    0.859081    0.556171   \n",
       "min     -2.000000    0.000000    0.000000    0.000000    0.000000    0.000000   \n",
       "25%      0.000000    1.000000    0.000000    0.000000    2.000000    1.000000   \n",
       "50%      1.000000    1.000000    0.000000    0.000000    3.000000    1.000000   \n",
       "75%      2.000000    1.000000    0.000000    1.000000    3.000000    2.000000   \n",
       "max      3.000000    1.000000    1.000000    1.000000    4.000000    2.000000   \n",
       "\n",
       "       enginelocation   wheelbase   carlength    carwidth  ...  fuelsystem  \\\n",
       "count      205.000000  205.000000  205.000000  205.000000  ...  205.000000   \n",
       "mean         0.014634   98.756585  174.049268   65.907805  ...    3.253659   \n",
       "std          0.120377    6.021776   12.337289    2.145204  ...    2.013204   \n",
       "min          0.000000   86.600000  141.100000   60.300000  ...    0.000000   \n",
       "25%          0.000000   94.500000  166.300000   64.100000  ...    1.000000   \n",
       "50%          0.000000   97.000000  173.200000   65.500000  ...    5.000000   \n",
       "75%          0.000000  102.400000  183.100000   66.900000  ...    5.000000   \n",
       "max          1.000000  120.900000  208.100000   72.300000  ...    7.000000   \n",
       "\n",
       "        boreratio      stroke  compressionratio  horsepower      peakrpm  \\\n",
       "count  205.000000  205.000000        205.000000  205.000000   205.000000   \n",
       "mean     3.329756    3.255415         10.142537  104.117073  5125.121951   \n",
       "std      0.270844    0.313597          3.972040   39.544167   476.985643   \n",
       "min      2.540000    2.070000          7.000000   48.000000  4150.000000   \n",
       "25%      3.150000    3.110000          8.600000   70.000000  4800.000000   \n",
       "50%      3.310000    3.290000          9.000000   95.000000  5200.000000   \n",
       "75%      3.580000    3.410000          9.400000  116.000000  5500.000000   \n",
       "max      3.940000    4.170000         23.000000  288.000000  6600.000000   \n",
       "\n",
       "          citympg  highwaympg         price     company  \n",
       "count  205.000000  205.000000    205.000000  205.000000  \n",
       "mean    25.219512   30.751220  13276.710571   11.580488  \n",
       "std      6.542142    6.886443   7988.852332    6.881320  \n",
       "min     13.000000   16.000000   5118.000000    0.000000  \n",
       "25%     19.000000   25.000000   7788.000000    6.000000  \n",
       "50%     24.000000   30.000000  10295.000000   12.000000  \n",
       "75%     30.000000   34.000000  16503.000000   19.000000  \n",
       "max     49.000000   54.000000  45400.000000   21.000000  \n",
       "\n",
       "[8 rows x 25 columns]"
      ]
     },
     "execution_count": 56,
     "metadata": {},
     "output_type": "execute_result"
    }
   ],
   "source": [
    "df.describe()"
   ]
  },
  {
   "cell_type": "markdown",
   "id": "60658265-6882-4758-81c8-d7bd17ab3837",
   "metadata": {},
   "source": [
    "<b>Checking for missing values</b>"
   ]
  },
  {
   "cell_type": "code",
   "execution_count": 57,
   "id": "0ca4e0e9-dc3f-4a84-b32d-32d99eacb35d",
   "metadata": {},
   "outputs": [
    {
     "data": {
      "text/plain": [
       "symboling           0\n",
       "fueltype            0\n",
       "aspiration          0\n",
       "doornumber          0\n",
       "carbody             0\n",
       "drivewheel          0\n",
       "enginelocation      0\n",
       "wheelbase           0\n",
       "carlength           0\n",
       "carwidth            0\n",
       "carheight           0\n",
       "curbweight          0\n",
       "enginetype          0\n",
       "cylindernumber      0\n",
       "enginesize          0\n",
       "fuelsystem          0\n",
       "boreratio           0\n",
       "stroke              0\n",
       "compressionratio    0\n",
       "horsepower          0\n",
       "peakrpm             0\n",
       "citympg             0\n",
       "highwaympg          0\n",
       "price               0\n",
       "company             0\n",
       "dtype: int64"
      ]
     },
     "execution_count": 57,
     "metadata": {},
     "output_type": "execute_result"
    }
   ],
   "source": [
    "df.isnull().sum()"
   ]
  },
  {
   "cell_type": "markdown",
   "id": "a23c7a16-0c0a-4b70-a65a-ea43378e6889",
   "metadata": {},
   "source": [
    "<b>Checking for duplicate rows</b>"
   ]
  },
  {
   "cell_type": "code",
   "execution_count": 58,
   "id": "3408adc6-881f-4846-b276-666c27f8dba1",
   "metadata": {},
   "outputs": [
    {
     "data": {
      "text/plain": [
       "0"
      ]
     },
     "execution_count": 58,
     "metadata": {},
     "output_type": "execute_result"
    }
   ],
   "source": [
    "df.duplicated().sum()"
   ]
  },
  {
   "cell_type": "code",
   "execution_count": 59,
   "id": "0fa7bf92-23ff-45c4-9d94-4ccbc68093bb",
   "metadata": {},
   "outputs": [
    {
     "data": {
      "text/plain": [
       "symboling             6\n",
       "fueltype              2\n",
       "aspiration            2\n",
       "doornumber            2\n",
       "carbody               5\n",
       "drivewheel            3\n",
       "enginelocation        2\n",
       "wheelbase            53\n",
       "carlength            75\n",
       "carwidth             44\n",
       "carheight            49\n",
       "curbweight          171\n",
       "enginetype            7\n",
       "cylindernumber        7\n",
       "enginesize           44\n",
       "fuelsystem            8\n",
       "boreratio            38\n",
       "stroke               37\n",
       "compressionratio     32\n",
       "horsepower           59\n",
       "peakrpm              23\n",
       "citympg              29\n",
       "highwaympg           30\n",
       "price               189\n",
       "company              22\n",
       "dtype: int64"
      ]
     },
     "execution_count": 59,
     "metadata": {},
     "output_type": "execute_result"
    }
   ],
   "source": [
    "df.nunique()"
   ]
  },
  {
   "cell_type": "markdown",
   "id": "88732fd6-f4f9-437b-8d56-438e2c3d3683",
   "metadata": {},
   "source": [
    "#### <font color='Red'>4.<u> Data Preprocessing</u></font>"
   ]
  },
  {
   "cell_type": "markdown",
   "id": "218bc502-c2b3-442c-95bc-0a60bbacc458",
   "metadata": {},
   "source": [
    "<b>Dropping unnecessary columns</b>"
   ]
  },
  {
   "cell_type": "code",
   "execution_count": 3,
   "id": "405b272f-9ed6-4d6c-9e30-17d01f6ac105",
   "metadata": {},
   "outputs": [],
   "source": [
    "df = df.drop(['car_ID'], axis=1)"
   ]
  },
  {
   "cell_type": "markdown",
   "id": "8c336d83-2acf-41d9-abfc-5719bb1fedd9",
   "metadata": {},
   "source": [
    "<b> Extracting company name from car name</b>"
   ]
  },
  {
   "cell_type": "code",
   "execution_count": 4,
   "id": "1ddc7dad-d723-4de3-927f-4f69d0375a61",
   "metadata": {},
   "outputs": [],
   "source": [
    "df['company'] = df['CarName'].apply(lambda x: x.split(' ')[0])\n",
    "df.drop('CarName', axis=1, inplace=True)"
   ]
  },
  {
   "cell_type": "code",
   "execution_count": 5,
   "id": "94126638-8129-4196-a457-680912338746",
   "metadata": {},
   "outputs": [
    {
     "name": "stdout",
     "output_type": "stream",
     "text": [
      "['alfa-romero' 'audi' 'bmw' 'chevrolet' 'dodge' 'honda' 'isuzu' 'jaguar'\n",
      " 'maxda' 'mazda' 'buick' 'mercury' 'mitsubishi' 'Nissan' 'nissan'\n",
      " 'peugeot' 'plymouth' 'porsche' 'porcshce' 'renault' 'saab' 'subaru'\n",
      " 'toyota' 'toyouta' 'vokswagen' 'volkswagen' 'vw' 'volvo']\n"
     ]
    }
   ],
   "source": [
    "unique_companies = df['company'].unique()\n",
    "print(unique_companies)"
   ]
  },
  {
   "cell_type": "code",
   "execution_count": 6,
   "id": "dce5b7c5-7420-4c13-9363-e77e90843f25",
   "metadata": {},
   "outputs": [
    {
     "data": {
      "text/plain": [
       "array(['alfa-romero', 'audi', 'bmw', 'chevrolet', 'dodge', 'honda',\n",
       "       'isuzu', 'jaguar', 'mazda', 'buick', 'mercury', 'mitsubishi',\n",
       "       'Nissan', 'peugeot', 'plymouth', 'porsche', 'renault', 'saab',\n",
       "       'subaru', 'toyota', 'volkswagen', 'volvo'], dtype=object)"
      ]
     },
     "execution_count": 6,
     "metadata": {},
     "output_type": "execute_result"
    }
   ],
   "source": [
    "corrections = {\n",
    "     'vw': 'volkswagen',\n",
    "    'vokswagen': 'volkswagen',\n",
    "    'toyouta': 'toyota',\n",
    "    'porcshce': 'porsche',\n",
    "    'maxda':'mazda',\n",
    "    'nissan':'Nissan'\n",
    "    }\n",
    "df['company'] = df['company'].replace(corrections)\n",
    "companies = df['company'].unique()\n",
    "companies"
   ]
  },
  {
   "cell_type": "markdown",
   "id": "3bffa4c0-4f08-4239-9f96-fec2cf302e72",
   "metadata": {},
   "source": [
    "<b>Label Encoding</b>"
   ]
  },
  {
   "cell_type": "code",
   "execution_count": 7,
   "id": "14d2c8a4-6489-49e6-a586-867c39c2d3d9",
   "metadata": {},
   "outputs": [],
   "source": [
    "\n",
    "le = LabelEncoder()\n",
    "for col in df.select_dtypes(include=['object']).columns:\n",
    "    df[col] = le.fit_transform(df[col])"
   ]
  },
  {
   "cell_type": "markdown",
   "id": "915110fb-9eef-4941-b09c-f0ba3839ca29",
   "metadata": {},
   "source": [
    "<b>Outliers detection and removal</b>"
   ]
  },
  {
   "cell_type": "code",
   "execution_count": 8,
   "id": "f8ee8dea-2f39-4f51-afd3-11e4415c80b0",
   "metadata": {},
   "outputs": [
    {
     "data": {
      "image/png": "[encoded data removed]",
      "text/plain": [
       "<Figure size 640x480 with 1 Axes>"
      ]
     },
     "metadata": {},
     "output_type": "display_data"
    }
   ],
   "source": [
    "sns.boxplot(df['price'])\n",
    "plt.title(\"Boxplot for Price\")\n",
    "plt.show()"
   ]
  },
  {
   "cell_type": "markdown",
   "id": "b73a68ad-6f85-4237-851c-2726c5d23edd",
   "metadata": {},
   "source": [
    "<b>Detecting outliers using IQR</b>"
   ]
  },
  {
   "cell_type": "code",
   "execution_count": 9,
   "id": "74b80c93-9671-4911-82dd-9dc614687232",
   "metadata": {},
   "outputs": [],
   "source": [
    "Q1 = df['price'].quantile(0.25)\n",
    "Q3 = df['price'].quantile(0.75)\n",
    "IQR = Q3 - Q1"
   ]
  },
  {
   "cell_type": "code",
   "execution_count": 10,
   "id": "a1533648-bc8b-40d0-b8b1-df2e5cc0306e",
   "metadata": {},
   "outputs": [],
   "source": [
    "lower_bound = Q1 - 1.5 * IQR\n",
    "upper_bound = Q3 + 1.5 * IQR"
   ]
  },
  {
   "cell_type": "markdown",
   "id": "704ec377-ef90-4514-8f03-70c7ff5f4ed1",
   "metadata": {},
   "source": [
    "<b>Filter out outliers</b>"
   ]
  },
  {
   "cell_type": "code",
   "execution_count": 11,
   "id": "6177c8fb-4017-4586-b1a0-9208fa2b04b0",
   "metadata": {},
   "outputs": [
    {
     "name": "stdout",
     "output_type": "stream",
     "text": [
      "Data after removing outliers:\n",
      "     symboling  fueltype  aspiration  doornumber  carbody  drivewheel  \\\n",
      "0            3         1           0           1        0           2   \n",
      "1            3         1           0           1        0           2   \n",
      "2            1         1           0           1        2           2   \n",
      "3            2         1           0           0        3           1   \n",
      "4            2         1           0           0        3           0   \n",
      "..         ...       ...         ...         ...      ...         ...   \n",
      "200         -1         1           0           0        3           2   \n",
      "201         -1         1           1           0        3           2   \n",
      "202         -1         1           0           0        3           2   \n",
      "203         -1         0           1           0        3           2   \n",
      "204         -1         1           1           0        3           2   \n",
      "\n",
      "     enginelocation  wheelbase  carlength  carwidth  ...  fuelsystem  \\\n",
      "0                 0       88.6      168.8      64.1  ...           5   \n",
      "1                 0       88.6      168.8      64.1  ...           5   \n",
      "2                 0       94.5      171.2      65.5  ...           5   \n",
      "3                 0       99.8      176.6      66.2  ...           5   \n",
      "4                 0       99.4      176.6      66.4  ...           5   \n",
      "..              ...        ...        ...       ...  ...         ...   \n",
      "200               0      109.1      188.8      68.9  ...           5   \n",
      "201               0      109.1      188.8      68.8  ...           5   \n",
      "202               0      109.1      188.8      68.9  ...           5   \n",
      "203               0      109.1      188.8      68.9  ...           3   \n",
      "204               0      109.1      188.8      68.9  ...           5   \n",
      "\n",
      "     boreratio  stroke  compressionratio  horsepower  peakrpm  citympg  \\\n",
      "0         3.47    2.68               9.0         111     5000       21   \n",
      "1         3.47    2.68               9.0         111     5000       21   \n",
      "2         2.68    3.47               9.0         154     5000       19   \n",
      "3         3.19    3.40              10.0         102     5500       24   \n",
      "4         3.19    3.40               8.0         115     5500       18   \n",
      "..         ...     ...               ...         ...      ...      ...   \n",
      "200       3.78    3.15               9.5         114     5400       23   \n",
      "201       3.78    3.15               8.7         160     5300       19   \n",
      "202       3.58    2.87               8.8         134     5500       18   \n",
      "203       3.01    3.40              23.0         106     4800       26   \n",
      "204       3.78    3.15               9.5         114     5400       19   \n",
      "\n",
      "     highwaympg    price  company  \n",
      "0            27  13495.0        1  \n",
      "1            27  16500.0        1  \n",
      "2            26  16500.0        1  \n",
      "3            30  13950.0        2  \n",
      "4            22  17450.0        2  \n",
      "..          ...      ...      ...  \n",
      "200          28  16845.0       21  \n",
      "201          25  19045.0       21  \n",
      "202          23  21485.0       21  \n",
      "203          27  22470.0       21  \n",
      "204          25  22625.0       21  \n",
      "\n",
      "[190 rows x 25 columns]\n"
     ]
    }
   ],
   "source": [
    "df1 = df[(df['price'] >= lower_bound) & (df['price'] <= upper_bound)]\n",
    "print(\"Data after removing outliers:\")\n",
    "print(df1)"
   ]
  },
  {
   "cell_type": "markdown",
   "id": "a8db18b0-bc37-46b2-bc09-5494073c2853",
   "metadata": {},
   "source": [
    "#### <font color='Red'>5.Feature Selection"
   ]
  },
  {
   "cell_type": "markdown",
   "id": "56a4049f-c810-4718-8c14-a1d5d6365900",
   "metadata": {},
   "source": [
    "##### Correlation Matrix:\n",
    "Generate a correlation matrix to identify relationships between variables."
   ]
  },
  {
   "cell_type": "code",
   "execution_count": 12,
   "id": "fe3e72a2-55cd-43a4-96a1-bc3e9313b478",
   "metadata": {},
   "outputs": [
    {
     "data": {
      "image/png": "[encoded data removed]",
      "text/plain": [
       "<Figure size 1000x1000 with 2 Axes>"
      ]
     },
     "metadata": {},
     "output_type": "display_data"
    }
   ],
   "source": [
    "correlation_matrix = df1.corr()\n",
    "plt.figure(figsize=(10,10))\n",
    "sns.heatmap(df1.corr())\n",
    "plt.show()"
   ]
  },
  {
   "cell_type": "markdown",
   "id": "56b7c73b-ee05-49a4-9b58-f8045ff8e95a",
   "metadata": {},
   "source": [
    "<b>Remove Multicollinearity</b>"
   ]
  },
  {
   "cell_type": "markdown",
   "id": "f9b263f0-bca7-4d23-9bab-13eee1a48b36",
   "metadata": {},
   "source": [
    "Multicollinearity is a statistical phenomenon in which two or more independent variables in a multiple regression model are highly correlated with each other. This high correlation means that the variables share a significant amount of the same information, making it difficult to determine the individual effect of each variable on the dependent variable."
   ]
  },
  {
   "cell_type": "code",
   "execution_count": 13,
   "id": "31600b8e-6c3d-42d3-a745-14312f5d8a52",
   "metadata": {},
   "outputs": [
    {
     "name": "stdout",
     "output_type": "stream",
     "text": [
      "Columns removed due to multicollinearity (excluding target variable):\n",
      "['carlength', 'highwaympg', 'citympg', 'wheelbase', 'curbweight']\n",
      "Remaining columns:\n",
      "Index(['symboling', 'fueltype', 'aspiration', 'doornumber', 'carbody',\n",
      "       'drivewheel', 'enginelocation', 'carwidth', 'carheight', 'enginetype',\n",
      "       'cylindernumber', 'enginesize', 'fuelsystem', 'boreratio', 'stroke',\n",
      "       'compressionratio', 'horsepower', 'peakrpm', 'price', 'company'],\n",
      "      dtype='object')\n"
     ]
    }
   ],
   "source": [
    "mask = np.triu(np.ones_like(correlation_matrix, dtype=bool), k=1)\n",
    "threshold = 0.85\n",
    "target_variable = 'price'\n",
    "to_drop = set()\n",
    "for i in range(len(correlation_matrix.columns)):\n",
    "    for j in range(i):\n",
    "        \n",
    "        if correlation_matrix.iloc[i, j] > threshold:\n",
    "            if correlation_matrix.columns[i] != target_variable:\n",
    "                to_drop.add(correlation_matrix.columns[i])\n",
    "            if correlation_matrix.columns[j] != target_variable:\n",
    "                to_drop.add(correlation_matrix.columns[j])\n",
    "new_df = df1.drop(columns=[col for col in to_drop if col != target_variable])\n",
    "print(\"Columns removed due to multicollinearity (excluding target variable):\")\n",
    "print([col for col in to_drop if col != target_variable])\n",
    "print(\"Remaining columns:\")\n",
    "print(new_df.columns)\n"
   ]
  },
  {
   "cell_type": "code",
   "execution_count": 14,
   "id": "83d8007a-e3b5-456c-a093-5c77a8f04538",
   "metadata": {},
   "outputs": [
    {
     "data": {
      "image/png": "[encoded data removed]",
      "text/plain": [
       "<Figure size 640x480 with 2 Axes>"
      ]
     },
     "metadata": {},
     "output_type": "display_data"
    }
   ],
   "source": [
    "correlation_matrix_reduced = new_df.corr()\n",
    "sns.heatmap(correlation_matrix_reduced,  cmap='coolwarm')\n",
    "plt.title('Correlation Matrix After Removing Multicollinearity')\n",
    "plt.show()"
   ]
  },
  {
   "cell_type": "markdown",
   "id": "629c468a-6a57-48ba-b79f-13702a3a7475",
   "metadata": {},
   "source": [
    "#### <font color='Red'>6:<u> Data Splitting</u></font>"
   ]
  },
  {
   "cell_type": "code",
   "execution_count": 15,
   "id": "31385262-01ee-4d05-ab2c-3c9d8e6ce0e5",
   "metadata": {},
   "outputs": [
    {
     "name": "stdout",
     "output_type": "stream",
     "text": [
      "Training set features shape: (152, 19)\n",
      "Testing set features shape: (38, 19)\n",
      "Training set target shape: (152,)\n",
      "Testing set target shape: (38,)\n"
     ]
    }
   ],
   "source": [
    "\n",
    "X = new_df.drop(columns='price')  \n",
    "y =new_df['price']   \n",
    "X_train, X_test, y_train, y_test = train_test_split(X, y, test_size=0.2, random_state=42)\n",
    "print(\"Training set features shape:\", X_train.shape)\n",
    "print(\"Testing set features shape:\", X_test.shape)\n",
    "print(\"Training set target shape:\", y_train.shape)\n",
    "print(\"Testing set target shape:\", y_test.shape)"
   ]
  },
  {
   "cell_type": "markdown",
   "id": "20a7e8d1-cbb8-4acf-afde-d5d9384720ca",
   "metadata": {},
   "source": [
    "#### <font color='Red'>7:<u> Model Selection and Implementation</u></font>"
   ]
  },
  {
   "cell_type": "markdown",
   "id": "479d26d8-ab85-41de-9324-8ef88076b02b",
   "metadata": {},
   "source": [
    "<b>1. Linear Regression</b>"
   ]
  },
  {
   "cell_type": "markdown",
   "id": "c63d5938-0e6b-4f52-87fc-33c17a4ef1a1",
   "metadata": {},
   "source": [
    "Linear Regression is a statistical method that models the relationship between a dependent variable and one or more independent variables by fitting a linear equation to observed data.The model attempts to find the best-fit line through the data points such that the sum of the squared differences between the observed and predicted values is minimized."
   ]
  },
  {
   "cell_type": "code",
   "execution_count": 16,
   "id": "1df46084-9603-4dec-bc86-59a5110583de",
   "metadata": {},
   "outputs": [
    {
     "data": {
      "text/html": [
       "<style>#sk-container-id-1 {\n",
       "  /* Definition of color scheme common for light and dark mode */\n",
       "  --sklearn-color-text: black;\n",
       "  --sklearn-color-line: gray;\n",
       "  /* Definition of color scheme for unfitted estimators */\n",
       "  --sklearn-color-unfitted-level-0: #fff5e6;\n",
       "  --sklearn-color-unfitted-level-1: #f6e4d2;\n",
       "  --sklearn-color-unfitted-level-2: #ffe0b3;\n",
       "  --sklearn-color-unfitted-level-3: chocolate;\n",
       "  /* Definition of color scheme for fitted estimators */\n",
       "  --sklearn-color-fitted-level-0: #f0f8ff;\n",
       "  --sklearn-color-fitted-level-1: #d4ebff;\n",
       "  --sklearn-color-fitted-level-2: #b3dbfd;\n",
       "  --sklearn-color-fitted-level-3: cornflowerblue;\n",
       "\n",
       "  /* Specific color for light theme */\n",
       "  --sklearn-color-text-on-default-background: var(--sg-text-color, var(--theme-code-foreground, var(--jp-content-font-color1, black)));\n",
       "  --sklearn-color-background: var(--sg-background-color, var(--theme-background, var(--jp-layout-color0, white)));\n",
       "  --sklearn-color-border-box: var(--sg-text-color, var(--theme-code-foreground, var(--jp-content-font-color1, black)));\n",
       "  --sklearn-color-icon: #696969;\n",
       "\n",
       "  @media (prefers-color-scheme: dark) {\n",
       "    /* Redefinition of color scheme for dark theme */\n",
       "    --sklearn-color-text-on-default-background: var(--sg-text-color, var(--theme-code-foreground, var(--jp-content-font-color1, white)));\n",
       "    --sklearn-color-background: var(--sg-background-color, var(--theme-background, var(--jp-layout-color0, #111)));\n",
       "    --sklearn-color-border-box: var(--sg-text-color, var(--theme-code-foreground, var(--jp-content-font-color1, white)));\n",
       "    --sklearn-color-icon: #878787;\n",
       "  }\n",
       "}\n",
       "\n",
       "#sk-container-id-1 {\n",
       "  color: var(--sklearn-color-text);\n",
       "}\n",
       "\n",
       "#sk-container-id-1 pre {\n",
       "  padding: 0;\n",
       "}\n",
       "\n",
       "#sk-container-id-1 input.sk-hidden--visually {\n",
       "  border: 0;\n",
       "  clip: rect(1px 1px 1px 1px);\n",
       "  clip: rect(1px, 1px, 1px, 1px);\n",
       "  height: 1px;\n",
       "  margin: -1px;\n",
       "  overflow: hidden;\n",
       "  padding: 0;\n",
       "  position: absolute;\n",
       "  width: 1px;\n",
       "}\n",
       "\n",
       "#sk-container-id-1 div.sk-dashed-wrapped {\n",
       "  border: 1px dashed var(--sklearn-color-line);\n",
       "  margin: 0 0.4em 0.5em 0.4em;\n",
       "  box-sizing: border-box;\n",
       "  padding-bottom: 0.4em;\n",
       "  background-color: var(--sklearn-color-background);\n",
       "}\n",
       "\n",
       "#sk-container-id-1 div.sk-container {\n",
       "  /* jupyter's `normalize.less` sets `[hidden] { display: none; }`\n",
       "     but bootstrap.min.css set `[hidden] { display: none !important; }`\n",
       "     so we also need the `!important` here to be able to override the\n",
       "     default hidden behavior on the sphinx rendered scikit-learn.org.\n",
       "     See: https://github.com/scikit-learn/scikit-learn/issues/21755 */\n",
       "  display: inline-block !important;\n",
       "  position: relative;\n",
       "}\n",
       "\n",
       "#sk-container-id-1 div.sk-text-repr-fallback {\n",
       "  display: none;\n",
       "}\n",
       "\n",
       "div.sk-parallel-item,\n",
       "div.sk-serial,\n",
       "div.sk-item {\n",
       "  /* draw centered vertical line to link estimators */\n",
       "  background-image: linear-gradient(var(--sklearn-color-text-on-default-background), var(--sklearn-color-text-on-default-background));\n",
       "  background-size: 2px 100%;\n",
       "  background-repeat: no-repeat;\n",
       "  background-position: center center;\n",
       "}\n",
       "\n",
       "/* Parallel-specific style estimator block */\n",
       "\n",
       "#sk-container-id-1 div.sk-parallel-item::after {\n",
       "  content: \"\";\n",
       "  width: 100%;\n",
       "  border-bottom: 2px solid var(--sklearn-color-text-on-default-background);\n",
       "  flex-grow: 1;\n",
       "}\n",
       "\n",
       "#sk-container-id-1 div.sk-parallel {\n",
       "  display: flex;\n",
       "  align-items: stretch;\n",
       "  justify-content: center;\n",
       "  background-color: var(--sklearn-color-background);\n",
       "  position: relative;\n",
       "}\n",
       "\n",
       "#sk-container-id-1 div.sk-parallel-item {\n",
       "  display: flex;\n",
       "  flex-direction: column;\n",
       "}\n",
       "\n",
       "#sk-container-id-1 div.sk-parallel-item:first-child::after {\n",
       "  align-self: flex-end;\n",
       "  width: 50%;\n",
       "}\n",
       "\n",
       "#sk-container-id-1 div.sk-parallel-item:last-child::after {\n",
       "  align-self: flex-start;\n",
       "  width: 50%;\n",
       "}\n",
       "\n",
       "#sk-container-id-1 div.sk-parallel-item:only-child::after {\n",
       "  width: 0;\n",
       "}\n",
       "\n",
       "/* Serial-specific style estimator block */\n",
       "\n",
       "#sk-container-id-1 div.sk-serial {\n",
       "  display: flex;\n",
       "  flex-direction: column;\n",
       "  align-items: center;\n",
       "  background-color: var(--sklearn-color-background);\n",
       "  padding-right: 1em;\n",
       "  padding-left: 1em;\n",
       "}\n",
       "\n",
       "\n",
       "/* Toggleable style: style used for estimator/Pipeline/ColumnTransformer box that is\n",
       "clickable and can be expanded/collapsed.\n",
       "- Pipeline and ColumnTransformer use this feature and define the default style\n",
       "- Estimators will overwrite some part of the style using the `sk-estimator` class\n",
       "*/\n",
       "\n",
       "/* Pipeline and ColumnTransformer style (default) */\n",
       "\n",
       "#sk-container-id-1 div.sk-toggleable {\n",
       "  /* Default theme specific background. It is overwritten whether we have a\n",
       "  specific estimator or a Pipeline/ColumnTransformer */\n",
       "  background-color: var(--sklearn-color-background);\n",
       "}\n",
       "\n",
       "/* Toggleable label */\n",
       "#sk-container-id-1 label.sk-toggleable__label {\n",
       "  cursor: pointer;\n",
       "  display: block;\n",
       "  width: 100%;\n",
       "  margin-bottom: 0;\n",
       "  padding: 0.5em;\n",
       "  box-sizing: border-box;\n",
       "  text-align: center;\n",
       "}\n",
       "\n",
       "#sk-container-id-1 label.sk-toggleable__label-arrow:before {\n",
       "  /* Arrow on the left of the label */\n",
       "  content: \"▸\";\n",
       "  float: left;\n",
       "  margin-right: 0.25em;\n",
       "  color: var(--sklearn-color-icon);\n",
       "}\n",
       "\n",
       "#sk-container-id-1 label.sk-toggleable__label-arrow:hover:before {\n",
       "  color: var(--sklearn-color-text);\n",
       "}\n",
       "\n",
       "/* Toggleable content - dropdown */\n",
       "\n",
       "#sk-container-id-1 div.sk-toggleable__content {\n",
       "  max-height: 0;\n",
       "  max-width: 0;\n",
       "  overflow: hidden;\n",
       "  text-align: left;\n",
       "  /* unfitted */\n",
       "  background-color: var(--sklearn-color-unfitted-level-0);\n",
       "}\n",
       "\n",
       "#sk-container-id-1 div.sk-toggleable__content.fitted {\n",
       "  /* fitted */\n",
       "  background-color: var(--sklearn-color-fitted-level-0);\n",
       "}\n",
       "\n",
       "#sk-container-id-1 div.sk-toggleable__content pre {\n",
       "  margin: 0.2em;\n",
       "  border-radius: 0.25em;\n",
       "  color: var(--sklearn-color-text);\n",
       "  /* unfitted */\n",
       "  background-color: var(--sklearn-color-unfitted-level-0);\n",
       "}\n",
       "\n",
       "#sk-container-id-1 div.sk-toggleable__content.fitted pre {\n",
       "  /* unfitted */\n",
       "  background-color: var(--sklearn-color-fitted-level-0);\n",
       "}\n",
       "\n",
       "#sk-container-id-1 input.sk-toggleable__control:checked~div.sk-toggleable__content {\n",
       "  /* Expand drop-down */\n",
       "  max-height: 200px;\n",
       "  max-width: 100%;\n",
       "  overflow: auto;\n",
       "}\n",
       "\n",
       "#sk-container-id-1 input.sk-toggleable__control:checked~label.sk-toggleable__label-arrow:before {\n",
       "  content: \"▾\";\n",
       "}\n",
       "\n",
       "/* Pipeline/ColumnTransformer-specific style */\n",
       "\n",
       "#sk-container-id-1 div.sk-label input.sk-toggleable__control:checked~label.sk-toggleable__label {\n",
       "  color: var(--sklearn-color-text);\n",
       "  background-color: var(--sklearn-color-unfitted-level-2);\n",
       "}\n",
       "\n",
       "#sk-container-id-1 div.sk-label.fitted input.sk-toggleable__control:checked~label.sk-toggleable__label {\n",
       "  background-color: var(--sklearn-color-fitted-level-2);\n",
       "}\n",
       "\n",
       "/* Estimator-specific style */\n",
       "\n",
       "/* Colorize estimator box */\n",
       "#sk-container-id-1 div.sk-estimator input.sk-toggleable__control:checked~label.sk-toggleable__label {\n",
       "  /* unfitted */\n",
       "  background-color: var(--sklearn-color-unfitted-level-2);\n",
       "}\n",
       "\n",
       "#sk-container-id-1 div.sk-estimator.fitted input.sk-toggleable__control:checked~label.sk-toggleable__label {\n",
       "  /* fitted */\n",
       "  background-color: var(--sklearn-color-fitted-level-2);\n",
       "}\n",
       "\n",
       "#sk-container-id-1 div.sk-label label.sk-toggleable__label,\n",
       "#sk-container-id-1 div.sk-label label {\n",
       "  /* The background is the default theme color */\n",
       "  color: var(--sklearn-color-text-on-default-background);\n",
       "}\n",
       "\n",
       "/* On hover, darken the color of the background */\n",
       "#sk-container-id-1 div.sk-label:hover label.sk-toggleable__label {\n",
       "  color: var(--sklearn-color-text);\n",
       "  background-color: var(--sklearn-color-unfitted-level-2);\n",
       "}\n",
       "\n",
       "/* Label box, darken color on hover, fitted */\n",
       "#sk-container-id-1 div.sk-label.fitted:hover label.sk-toggleable__label.fitted {\n",
       "  color: var(--sklearn-color-text);\n",
       "  background-color: var(--sklearn-color-fitted-level-2);\n",
       "}\n",
       "\n",
       "/* Estimator label */\n",
       "\n",
       "#sk-container-id-1 div.sk-label label {\n",
       "  font-family: monospace;\n",
       "  font-weight: bold;\n",
       "  display: inline-block;\n",
       "  line-height: 1.2em;\n",
       "}\n",
       "\n",
       "#sk-container-id-1 div.sk-label-container {\n",
       "  text-align: center;\n",
       "}\n",
       "\n",
       "/* Estimator-specific */\n",
       "#sk-container-id-1 div.sk-estimator {\n",
       "  font-family: monospace;\n",
       "  border: 1px dotted var(--sklearn-color-border-box);\n",
       "  border-radius: 0.25em;\n",
       "  box-sizing: border-box;\n",
       "  margin-bottom: 0.5em;\n",
       "  /* unfitted */\n",
       "  background-color: var(--sklearn-color-unfitted-level-0);\n",
       "}\n",
       "\n",
       "#sk-container-id-1 div.sk-estimator.fitted {\n",
       "  /* fitted */\n",
       "  background-color: var(--sklearn-color-fitted-level-0);\n",
       "}\n",
       "\n",
       "/* on hover */\n",
       "#sk-container-id-1 div.sk-estimator:hover {\n",
       "  /* unfitted */\n",
       "  background-color: var(--sklearn-color-unfitted-level-2);\n",
       "}\n",
       "\n",
       "#sk-container-id-1 div.sk-estimator.fitted:hover {\n",
       "  /* fitted */\n",
       "  background-color: var(--sklearn-color-fitted-level-2);\n",
       "}\n",
       "\n",
       "/* Specification for estimator info (e.g. \"i\" and \"?\") */\n",
       "\n",
       "/* Common style for \"i\" and \"?\" */\n",
       "\n",
       ".sk-estimator-doc-link,\n",
       "a:link.sk-estimator-doc-link,\n",
       "a:visited.sk-estimator-doc-link {\n",
       "  float: right;\n",
       "  font-size: smaller;\n",
       "  line-height: 1em;\n",
       "  font-family: monospace;\n",
       "  background-color: var(--sklearn-color-background);\n",
       "  border-radius: 1em;\n",
       "  height: 1em;\n",
       "  width: 1em;\n",
       "  text-decoration: none !important;\n",
       "  margin-left: 1ex;\n",
       "  /* unfitted */\n",
       "  border: var(--sklearn-color-unfitted-level-1) 1pt solid;\n",
       "  color: var(--sklearn-color-unfitted-level-1);\n",
       "}\n",
       "\n",
       ".sk-estimator-doc-link.fitted,\n",
       "a:link.sk-estimator-doc-link.fitted,\n",
       "a:visited.sk-estimator-doc-link.fitted {\n",
       "  /* fitted */\n",
       "  border: var(--sklearn-color-fitted-level-1) 1pt solid;\n",
       "  color: var(--sklearn-color-fitted-level-1);\n",
       "}\n",
       "\n",
       "/* On hover */\n",
       "div.sk-estimator:hover .sk-estimator-doc-link:hover,\n",
       ".sk-estimator-doc-link:hover,\n",
       "div.sk-label-container:hover .sk-estimator-doc-link:hover,\n",
       ".sk-estimator-doc-link:hover {\n",
       "  /* unfitted */\n",
       "  background-color: var(--sklearn-color-unfitted-level-3);\n",
       "  color: var(--sklearn-color-background);\n",
       "  text-decoration: none;\n",
       "}\n",
       "\n",
       "div.sk-estimator.fitted:hover .sk-estimator-doc-link.fitted:hover,\n",
       ".sk-estimator-doc-link.fitted:hover,\n",
       "div.sk-label-container:hover .sk-estimator-doc-link.fitted:hover,\n",
       ".sk-estimator-doc-link.fitted:hover {\n",
       "  /* fitted */\n",
       "  background-color: var(--sklearn-color-fitted-level-3);\n",
       "  color: var(--sklearn-color-background);\n",
       "  text-decoration: none;\n",
       "}\n",
       "\n",
       "/* Span, style for the box shown on hovering the info icon */\n",
       ".sk-estimator-doc-link span {\n",
       "  display: none;\n",
       "  z-index: 9999;\n",
       "  position: relative;\n",
       "  font-weight: normal;\n",
       "  right: .2ex;\n",
       "  padding: .5ex;\n",
       "  margin: .5ex;\n",
       "  width: min-content;\n",
       "  min-width: 20ex;\n",
       "  max-width: 50ex;\n",
       "  color: var(--sklearn-color-text);\n",
       "  box-shadow: 2pt 2pt 4pt #999;\n",
       "  /* unfitted */\n",
       "  background: var(--sklearn-color-unfitted-level-0);\n",
       "  border: .5pt solid var(--sklearn-color-unfitted-level-3);\n",
       "}\n",
       "\n",
       ".sk-estimator-doc-link.fitted span {\n",
       "  /* fitted */\n",
       "  background: var(--sklearn-color-fitted-level-0);\n",
       "  border: var(--sklearn-color-fitted-level-3);\n",
       "}\n",
       "\n",
       ".sk-estimator-doc-link:hover span {\n",
       "  display: block;\n",
       "}\n",
       "\n",
       "/* \"?\"-specific style due to the `<a>` HTML tag */\n",
       "\n",
       "#sk-container-id-1 a.estimator_doc_link {\n",
       "  float: right;\n",
       "  font-size: 1rem;\n",
       "  line-height: 1em;\n",
       "  font-family: monospace;\n",
       "  background-color: var(--sklearn-color-background);\n",
       "  border-radius: 1rem;\n",
       "  height: 1rem;\n",
       "  width: 1rem;\n",
       "  text-decoration: none;\n",
       "  /* unfitted */\n",
       "  color: var(--sklearn-color-unfitted-level-1);\n",
       "  border: var(--sklearn-color-unfitted-level-1) 1pt solid;\n",
       "}\n",
       "\n",
       "#sk-container-id-1 a.estimator_doc_link.fitted {\n",
       "  /* fitted */\n",
       "  border: var(--sklearn-color-fitted-level-1) 1pt solid;\n",
       "  color: var(--sklearn-color-fitted-level-1);\n",
       "}\n",
       "\n",
       "/* On hover */\n",
       "#sk-container-id-1 a.estimator_doc_link:hover {\n",
       "  /* unfitted */\n",
       "  background-color: var(--sklearn-color-unfitted-level-3);\n",
       "  color: var(--sklearn-color-background);\n",
       "  text-decoration: none;\n",
       "}\n",
       "\n",
       "#sk-container-id-1 a.estimator_doc_link.fitted:hover {\n",
       "  /* fitted */\n",
       "  background-color: var(--sklearn-color-fitted-level-3);\n",
       "}\n",
       "</style><div id=\"sk-container-id-1\" class=\"sk-top-container\"><div class=\"sk-text-repr-fallback\"><pre>LinearRegression()</pre><b>In a Jupyter environment, please rerun this cell to show the HTML representation or trust the notebook. <br />On GitHub, the HTML representation is unable to render, please try loading this page with nbviewer.org.</b></div><div class=\"sk-container\" hidden><div class=\"sk-item\"><div class=\"sk-estimator fitted sk-toggleable\"><input class=\"sk-toggleable__control sk-hidden--visually\" id=\"sk-estimator-id-1\" type=\"checkbox\" checked><label for=\"sk-estimator-id-1\" class=\"sk-toggleable__label fitted sk-toggleable__label-arrow fitted\">&nbsp;&nbsp;LinearRegression<a class=\"sk-estimator-doc-link fitted\" rel=\"noreferrer\" target=\"_blank\" href=\"https://scikit-learn.org/1.5/modules/generated/sklearn.linear_model.LinearRegression.html\">?<span>Documentation for LinearRegression</span></a><span class=\"sk-estimator-doc-link fitted\">i<span>Fitted</span></span></label><div class=\"sk-toggleable__content fitted\"><pre>LinearRegression()</pre></div> </div></div></div></div>"
      ],
      "text/plain": [
       "LinearRegression()"
      ]
     },
     "execution_count": 16,
     "metadata": {},
     "output_type": "execute_result"
    }
   ],
   "source": [
    "LR = LinearRegression()\n",
    "LR.fit(X_train, y_train)"
   ]
  },
  {
   "cell_type": "markdown",
   "id": "a22dfa16-533b-465f-aee9-ceb172b86fb2",
   "metadata": {},
   "source": [
    "<b>Model Evaluation</b>"
   ]
  },
  {
   "cell_type": "code",
   "execution_count": 17,
   "id": "0aa0a823-862a-49b6-9d58-2dfcd3260d98",
   "metadata": {},
   "outputs": [
    {
     "data": {
      "text/plain": [
       "0.8074896353118153"
      ]
     },
     "execution_count": 17,
     "metadata": {},
     "output_type": "execute_result"
    }
   ],
   "source": [
    "LR.score(X_test,y_test)"
   ]
  },
  {
   "cell_type": "code",
   "execution_count": 18,
   "id": "8de9ee47-e7cd-4b42-a82b-22c0fe2d73e4",
   "metadata": {},
   "outputs": [
    {
     "data": {
      "text/plain": [
       "array([ 6579.60930938, 15497.3980396 ,  6297.74016052,  6738.4668781 ,\n",
       "       18829.28314628,  3510.37430011, 14971.40392842,  7460.70864105,\n",
       "        6844.42355255,  7149.17033434,  6463.37267818, 20095.19033839,\n",
       "        6774.82092439, 18183.23967807,  8694.64669485, 13106.09916326,\n",
       "       15869.28824563,  6738.4668781 , 10877.97284739,  7238.57767286,\n",
       "        7003.37333856,  8796.38607833, 13001.98194761, 18829.28314628,\n",
       "        8857.99457772,  9594.95406886,  7343.19261979,  6767.61281319,\n",
       "        7368.87571518,  8495.19621934,  8762.25854162,  6738.4668781 ,\n",
       "       12357.04535585, 10123.35236524,  9579.99422212, 18183.23967807,\n",
       "        7960.7209124 ,  8999.56049146])"
      ]
     },
     "execution_count": 18,
     "metadata": {},
     "output_type": "execute_result"
    }
   ],
   "source": [
    "predict_LR = LR.predict(X_test)\n",
    "predict_LR"
   ]
  },
  {
   "cell_type": "markdown",
   "id": "b2bc24c2-249e-44b3-a606-3c3db0591cc7",
   "metadata": {},
   "source": [
    "This indicates that, on average, the model’s predictions are off by about 1798.89 units from the actual values.\n",
    "This value represents the average of the squared differences between actual and predicted values. It's harder to interpret because it’s in squared units "
   ]
  },
  {
   "cell_type": "code",
   "execution_count": 61,
   "id": "640b770b-cedf-4369-8f7c-294cfaf3f4f5",
   "metadata": {},
   "outputs": [
    {
     "name": "stdout",
     "output_type": "stream",
     "text": [
      "Linear Regression - MSE: 3236009.8200310995\n",
      "Linear Regression - RMSE: 1798.891275211234\n",
      "Linear Regression - R2 Score 0.8074896353118153\n"
     ]
    }
   ],
   "source": [
    "import math\n",
    "rmse_LR=math.sqrt(mean_squared_error(predict_LR,y_test))\n",
    "mse_LR = mean_squared_error(y_test,predict_LR)\n",
    "r2_LR = r2_score(y_test, predict_LR)\n",
    "print(\"Linear Regression - MSE:\",mse_LR)\n",
    "print(\"Linear Regression - RMSE:\",rmse_LR)\n",
    "print(\"Linear Regression - R2 Score\",r2_LR)"
   ]
  },
  {
   "cell_type": "markdown",
   "id": "2a559c05-e499-4e71-b6ea-7cddc6447450",
   "metadata": {},
   "source": [
    "R² ranges from 0 to 1 - \n",
    "**0: The model does not explain any of the variance in the target variable.**,\n",
    "**1: The model perfectly explains all the variance in the target variable.**\n",
    " A value close to 1, such as 0.8075, indicates that the model has a good fit and explains a substantial portion of the variance.\n",
    " The interpretation depends on the scale of your target variable. These metrics suggest the model has a certain level of error, which could be acceptable or might need improvement based on your specific application."
   ]
  },
  {
   "cell_type": "markdown",
   "id": "0e811441-2607-4b2b-b3ef-fcbc63fc33c3",
   "metadata": {},
   "source": [
    "<b>2.Decision Tree Regressor</b>"
   ]
  },
  {
   "cell_type": "markdown",
   "id": "fa91b73e-5bc6-4185-9931-daee3ea67c2e",
   "metadata": {},
   "source": [
    "Decision Tree Regressor is a non-linear model that splits the data into subsets based on feature values. It creates a tree-like model of decisions and their possible consequences. It recursively divides the data into smaller segments based on feature thresholds, aiming to minimize the variance within each segment."
   ]
  },
  {
   "cell_type": "code",
   "execution_count": 63,
   "id": "694d2280-beef-4b24-b0cf-d44c3565d8e6",
   "metadata": {},
   "outputs": [],
   "source": [
    "DT = DecisionTreeRegressor()\n",
    "DT.fit(X_train, y_train)\n",
    "predict_DT = DT.predict(X_test)"
   ]
  },
  {
   "cell_type": "markdown",
   "id": "1d42d9d8-5d66-4bb1-9168-47cd9f545085",
   "metadata": {},
   "source": [
    "<b>Model Evaluation</b>"
   ]
  },
  {
   "cell_type": "code",
   "execution_count": 64,
   "id": "64606489-b879-4b0a-af81-1d06d53d3cd1",
   "metadata": {},
   "outputs": [
    {
     "name": "stdout",
     "output_type": "stream",
     "text": [
      "Decision Tree Regression-Mean Squared Error: 2898997.018891816\n",
      "Decison Tree Regression - Root Mean Square Error: 2117.796954371322\n",
      "Decision Tree Regression - R2 Score 0.827538541483332\n"
     ]
    }
   ],
   "source": [
    "mse_DT = mean_squared_error(y_test, predict_DT)\n",
    "rmse_DT=math.sqrt(mean_squared_error(predict_DT,y_test))\n",
    "r2_DT = r2_score(y_test, predict_DT)\n",
    "print(\"Decision Tree Regression-Mean Squared Error:\",mse_DT)\n",
    "print(\"Decison Tree Regression - Root Mean Square Error:\",rmse)\n",
    "print(\"Decision Tree Regression - R2 Score\",r2_DT)\n",
    "\n"
   ]
  },
  {
   "cell_type": "markdown",
   "id": "91ba38f0-6c36-4658-8688-5df67015be2e",
   "metadata": {},
   "source": [
    "The Decision Tree Regressor has a reasonably good R² score, indicating that it explains a substantial portion of the variance in the target variable.\n",
    "However, the MSE and RMSE are relatively high, suggesting that there may be significant prediction errors. This might be due to overfitting, especially if the tree is too complex and captures noise in the training data.\n",
    "Consider pruning the decision tree or exploring other models to see if you can reduce the error metrics while maintaining or improving the R² score.\n",
    "\n",
    "\n",
    "\n",
    "\n",
    "\n"
   ]
  },
  {
   "cell_type": "markdown",
   "id": "a446363a-b426-42eb-a59d-1e7798caf19e",
   "metadata": {},
   "source": [
    "<b>3.Random Forest Regressor:</b>\n",
    "\n"
   ]
  },
  {
   "cell_type": "markdown",
   "id": "0933b782-bc60-496e-b308-f78d389065e6",
   "metadata": {},
   "source": [
    "Random Forest Regressor is an ensemble learning method that combines multiple decision trees to improve predictive performance and control overfitting.\n",
    " It aggregates the predictions of several decision trees, each trained on different subsets of the data and features, to produce a final prediction."
   ]
  },
  {
   "cell_type": "code",
   "execution_count": 33,
   "id": "50698749-e9eb-44d2-820c-4e2100966160",
   "metadata": {},
   "outputs": [],
   "source": [
    "RF = RandomForestRegressor()\n",
    "RF.fit(X_train, y_train)\n",
    "predict_RF = RF.predict(X_test)"
   ]
  },
  {
   "cell_type": "markdown",
   "id": "4af88cab-15c4-4cb5-ad84-c3d6ce743756",
   "metadata": {},
   "source": [
    "<b>Model Evaluation</b>"
   ]
  },
  {
   "cell_type": "code",
   "execution_count": 35,
   "id": "d2b1a70b-b2eb-40ed-a388-6058abfdf6ac",
   "metadata": {},
   "outputs": [
    {
     "name": "stdout",
     "output_type": "stream",
     "text": [
      "Random Forest Regressor - Mean Squared Error: 1960059.2142452765\n",
      "Random Forest Regressor - Root Mean Square Error 1400.021147785017\n",
      "Random Forest Regressor - R^2 Score: 0.8833959922466587\n"
     ]
    }
   ],
   "source": [
    "mse_RF = mean_squared_error(y_test, predict_RF)\n",
    "rmse_RF=math.sqrt(mean_squared_error(predict_RF,y_test))\n",
    "r2_RF = r2_score(y_test, predict_RF)\n",
    "print(\"Random Forest Regressor - Mean Squared Error:\", mse_RF)\n",
    "print(\"Random Forest Regressor - Root Mean Square Error\",rmse_RF)\n",
    "print(\"Random Forest Regressor - R^2 Score:\", r2_RF)"
   ]
  },
  {
   "cell_type": "markdown",
   "id": "67d06c7d-5383-4968-9d60-c4976099f864",
   "metadata": {},
   "source": [
    "The Random Forest Regressor performs better than the Decision Tree Regressor in terms of both error metrics (MSE and RMSE) and the R² score.\n",
    "This suggests that the Random Forest model is more robust and better at capturing the underlying patterns in the data.\n",
    "The improvement in performance metrics could be attributed to the Random Forest's ensemble approach, which reduces overfitting and improves generalization compared to a single decision tree."
   ]
  },
  {
   "cell_type": "markdown",
   "id": "9033d5a1-a4af-4315-b7d0-6fa56295ffb1",
   "metadata": {},
   "source": [
    "<b>4.Gradient Boosting Regressor</b>"
   ]
  },
  {
   "cell_type": "markdown",
   "id": "b3f34f01-c568-4f44-abd5-e59a9b3157b5",
   "metadata": {},
   "source": [
    "Gradient Boosting Regressor is another ensemble technique that builds a model in a stage-wise fashion, where each stage corrects the errors of the previous one.It trains models sequentially, with each new model focusing on the residual errors of the combined ensemble of previous models. The predictions are aggregated to make the final prediction."
   ]
  },
  {
   "cell_type": "code",
   "execution_count": 67,
   "id": "db88d9d4-f194-4997-aedd-6565fa6dc9bf",
   "metadata": {},
   "outputs": [],
   "source": [
    " \n",
    "GBR = GradientBoostingRegressor()\n",
    "GBR.fit(X_train, y_train)\n",
    "predict_GBR = GBR.predict(X_test)\n"
   ]
  },
  {
   "cell_type": "markdown",
   "id": "33f0a86d-9f29-4126-a152-3a6b647e71e5",
   "metadata": {},
   "source": [
    "<b>Model Evaluation</b>"
   ]
  },
  {
   "cell_type": "code",
   "execution_count": 38,
   "id": "71c7b05b-b6be-492b-b1c7-06faf87cdef6",
   "metadata": {},
   "outputs": [
    {
     "name": "stdout",
     "output_type": "stream",
     "text": [
      "Gradient Boosting Regressor - Mean Squared Error: 2059154.0717867436\n",
      "Gradient Boosting Regressor-Root Mean Square Value; 1434.9752861240306\n",
      "Gradient Boosting Regressor - R^2 Score: 0.8775008348692165\n"
     ]
    }
   ],
   "source": [
    "mse_GBR = mean_squared_error(y_test,predict_GBR)\n",
    "rmse_GBR=math.sqrt(mean_squared_error(predict_GBR,y_test))\n",
    "r2_GBR = r2_score(y_test,predict_GBR)\n",
    "print(\"Gradient Boosting Regressor - Mean Squared Error:\", mse_GBR)\n",
    "print(\"Gradient Boosting Regressor-Root Mean Square Value;\",rmse_GBR)\n",
    "print(\"Gradient Boosting Regressor - R^2 Score:\", r2_GBR)\n"
   ]
  },
  {
   "cell_type": "markdown",
   "id": "fcd1f86c-3003-4531-a4bd-21e9e93d7b2c",
   "metadata": {},
   "source": [
    "The Gradient Boosting Regressor performs comparably to the Random Forest Regressor, with a slight decrease in MSE, RMSE, and R² score.\n",
    "The performance of both models is quite strong, but the Random Forest Regressor has a slight edge in terms of accuracy and explaining variance.\n",
    "Gradient Boosting methods are known for their robustness and ability to model complex patterns, but in this case, the Random Forest appears to have a marginally better performance based on the provided metrics."
   ]
  },
  {
   "cell_type": "markdown",
   "id": "12a8ae39-4ffb-4b36-a670-f8c6b519f898",
   "metadata": {},
   "source": [
    "<b>4.Support Vector Regressor</b>"
   ]
  },
  {
   "cell_type": "markdown",
   "id": "a86c61f9-a04d-4cac-8720-1512b2a91041",
   "metadata": {},
   "source": [
    "Support Vector Regressor is a type of support vector machine used for regression tasks. It aims to fit the data within a predefined margin of tolerance while minimizing the prediction errors.It uses support vectors (data points that are close to the decision boundary) to define the regression function. The goal is to find a function that deviates from the actual observed values by at most a specified margin."
   ]
  },
  {
   "cell_type": "code",
   "execution_count": 51,
   "id": "cc227bfe-4434-4315-ad16-99075e895eba",
   "metadata": {},
   "outputs": [],
   "source": [
    "svr = SVR()\n",
    "svr.fit(X_train, y_train)\n",
    "predict_svr = svr.predict(X_test)\n",
    "\n"
   ]
  },
  {
   "cell_type": "code",
   "execution_count": 54,
   "id": "0c722467-204e-46cc-86a8-7b7f41b59447",
   "metadata": {},
   "outputs": [
    {
     "name": "stdout",
     "output_type": "stream",
     "text": [
      "Mean Squared Error (MSE): 17228185.891430188\n",
      "Root Mean Squared Error (RMSE): 4150.684990628678\n",
      "R² Score: -0.024905526659740218\n"
     ]
    }
   ],
   "source": [
    "\n",
    "mse_svr = mean_squared_error(y_test, predict_svr)\n",
    "rmse_svr = mse_svr ** 0.5\n",
    "r2_svr = r2_score(y_test,predict_svr)\n",
    "print(f\"Mean Squared Error (MSE): {mse_svr}\")\n",
    "print(f\"Root Mean Squared Error (RMSE): {rmse_svr}\")\n",
    "print(f\"R² Score: {r2_svr}\")"
   ]
  },
  {
   "cell_type": "markdown",
   "id": "d33ddc83-3046-4c04-bd26-7ffd7dde0e00",
   "metadata": {},
   "source": [
    "#### <font color='red'>8.Evaluation of models</red>"
   ]
  },
  {
   "cell_type": "markdown",
   "id": "dc35d443-c360-4a5f-a807-8849cf814177",
   "metadata": {},
   "source": [
    "1.**<u>Random Forest Regressor:</u>**\n",
    "Best performance with the lowest MSE (1,960,059.2142), lowest RMSE (1,400.021), and highest R² score (0.8834). This indicates that the model is         capturing most of the variability in car prices and providing accurate predictions.\n",
    "\n",
    "2. **<u>Gradient Boosting Regressor:</u>**\n",
    "Close second with slightly higher error metrics than Random Forest, but still a strong model for predicting car prices.\n",
    "\n",
    "3. **<u>Linear Regression:</u>**\n",
    "Performed reasonably well but was outperformed by the ensemble methods. MSE (3,236,009.8200) and R² score (0.8075) indicate that while it captures some of the variability, it’s not as robust as the ensemble methods.\n",
    "\n",
    "4. **<u>Decision Tree Regressor:</u>**\n",
    "This model did not perform as well as the Random Forest or Gradient Boosting Regressors. Its MSE and RMSE are higher, and the R² score is lower, indicating that it is less accurate in predicting car prices.MSE: 4,485,063.9399,RMSE: 2,117.797,R² Score: 0.7332\n",
    "\n",
    "5. **<u>Support Vector Regressor (SVR):</u>**\n",
    "Worst performance with extremely high error metrics and a negative R² score, indicating that the model fails to capture the relationship between features and car prices effectively.\n",
    "\n"
   ]
  },
  {
   "cell_type": "markdown",
   "id": "6cc4b05f-fd18-400c-8299-86c31c2d0985",
   "metadata": {},
   "source": [
    "#### <font color='Red'> Analysis </font>\n",
    "><u><b>Best-Performing Model</u></b>: The Random Forest Regressor remains the best-performing model, with the lowest error metrics and the highest R² score. It captures the relationships in the data more effectively than the other models."
   ]
  },
  {
   "cell_type": "markdown",
   "id": "923f994e-16e2-483e-8a0f-c233c74d4cf5",
   "metadata": {},
   "source": [
    "#### <font color='red'><u>Conclusion</u></font>\n",
    "The results indicate that ensemble methods, particularly the Random Forest Regressor, provide the most reliable predictions for car prices in this context. These insights can be leveraged by the Chinese automobile company to fine-tune their car designs and pricing strategies for successful entry into the U.S. market."
   ]
  },
  {
   "cell_type": "code",
   "execution_count": null,
   "id": "259c7391-5f6c-4389-a6ee-888a642aa4be",
   "metadata": {},
   "outputs": [],
   "source": []
  }
 ],
 "metadata": {
  "kernelspec": {
   "display_name": "Python 3 (ipykernel)",
   "language": "python",
   "name": "python3"
  },
  "language_info": {
   "codemirror_mode": {
    "name": "ipython",
    "version": 3
   },
   "file_extension": ".py",
   "mimetype": "text/x-python",
   "name": "python",
   "nbconvert_exporter": "python",
   "pygments_lexer": "ipython3",
   "version": "3.12.1"
  }
 },
 "nbformat": 4,
 "nbformat_minor": 5
}
