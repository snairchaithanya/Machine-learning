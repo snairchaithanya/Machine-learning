{
 "cells": [
  {
   "cell_type": "code",
   "execution_count": 1,
   "id": "9fd4c94b-dc5b-41f4-968e-c2b4e6c457a6",
   "metadata": {},
   "outputs": [
    {
     "name": "stdout",
     "output_type": "stream",
     "text": [
      "Requirement already satisfied: scipy in c:\\users\\admin\\appdata\\local\\programs\\python\\python312\\lib\\site-packages (1.13.1)Note: you may need to restart the kernel to use updated packages.\n"
     ]
    },
    {
     "name": "stderr",
     "output_type": "stream",
     "text": [
      "\n",
      "[notice] A new release of pip is available: 23.2.1 -> 24.1\n",
      "[notice] To update, run: python.exe -m pip install --upgrade pip\n"
     ]
    },
    {
     "name": "stdout",
     "output_type": "stream",
     "text": [
      "\n",
      "Requirement already satisfied: numpy<2.3,>=1.22.4 in c:\\users\\admin\\appdata\\local\\programs\\python\\python312\\lib\\site-packages (from scipy) (1.26.4)\n"
     ]
    }
   ],
   "source": [
    "pip install scipy"
   ]
  },
  {
   "cell_type": "code",
   "execution_count": null,
   "id": "3c1232e3-79ab-4ca4-a433-981a1ed0ab62",
   "metadata": {},
   "outputs": [],
   "source": []
  },
  {
   "cell_type": "code",
   "execution_count": null,
   "id": "7f54014d-aa0b-41e7-89a7-ff66190fd89e",
   "metadata": {},
   "outputs": [],
   "source": []
  },
  {
   "cell_type": "markdown",
   "id": "4389670b-9b4e-4a36-9b05-f50aaac04ffe",
   "metadata": {},
   "source": [
    "####   Q1.Suppose a child psychologist claims that the average time working mothers spend talking to their children is at least 11 minutes per day. You conduct a random sample of 1000 working mothers and find they spend an average of 11.5 minutes per day talking with their children. Assume prior research suggests the population standard deviation is 2.3 minutes. Conduct a test with a level of significance of alpha = 0.05."
   ]
  },
  {
   "cell_type": "code",
   "execution_count": 2,
   "id": "6af00315-7759-44b9-b7bc-6530585448e8",
   "metadata": {},
   "outputs": [],
   "source": [
    "import scipy.stats as stats\n",
    "import numpy as np\n"
   ]
  },
  {
   "cell_type": "code",
   "execution_count": 3,
   "id": "935c8df3-38a4-469b-971b-20c786a46787",
   "metadata": {},
   "outputs": [
    {
     "name": "stdout",
     "output_type": "stream",
     "text": [
      "The Z score is 6.874516652539955 and critical value of z is -1.6448536269514729\n"
     ]
    }
   ],
   "source": [
    "# Given data\n",
    "n = 1000 # sample size\n",
    "sample_mean = 11.5 # sample mean\n",
    "population_mean = 11\n",
    "std = 2.3\n",
    "alpha = 0.05\n",
    "z_score = (sample_mean - population_mean)/(std/np.sqrt(n)) \n",
    "z_critical = stats.norm.ppf(alpha)\n",
    "print(\"The Z score is\",z_score,\"and critical value of z is\",z_critical)"
   ]
  },
  {
   "cell_type": "code",
   "execution_count": 4,
   "id": "150c00cc-88d6-49a8-8a33-f50b75124b45",
   "metadata": {},
   "outputs": [
    {
     "name": "stdout",
     "output_type": "stream",
     "text": [
      " There is insufficient evidence to suggest that the average time working mothers spend talking to their children is greater than 11 minutes per day,Accept the null hypothesis\n"
     ]
    }
   ],
   "source": [
    "if z_score < z_critical:\n",
    "    print(\"There is sufficient evidence to suggest that the average time working mothers spend talking to their children is greater than 11 minutes per day,Reject the null hypothesis\")\n",
    "else:\n",
    "    print(\" There is insufficient evidence to suggest that the average time working mothers spend talking to their children is greater than 11 minutes per day,Accept the null hypothesis\")"
   ]
  },
  {
   "cell_type": "code",
   "execution_count": null,
   "id": "ed381da4-4158-4429-9a7c-a032cfad2d91",
   "metadata": {},
   "outputs": [],
   "source": []
  },
  {
   "cell_type": "markdown",
   "id": "8b229cf8-f6f9-4045-aa5b-0244f6acddf5",
   "metadata": {},
   "source": [
    "#### Q2. A coffee shop claims that their average wait time for customers is less than 5 minutes. To test this claim, a sample of 40 customers is taken, and their wait times are recorded. The sample mean wait time is found to be 4.6 minutes with a standard deviation of 0.8 minutes. Perform a hypothesis test at a significance level of 0.05 and determine whether there is enough evidence to support the coffee shop's claim"
   ]
  },
  {
   "cell_type": "code",
   "execution_count": 5,
   "id": "73486b4b-edc3-4523-8233-c474de151e02",
   "metadata": {},
   "outputs": [
    {
     "name": "stdout",
     "output_type": "stream",
     "text": [
      "The t score is 279.86157292490157 and the critical value is -1.684875121711225\n"
     ]
    }
   ],
   "source": [
    "n1 = 40\n",
    "sample_mean1 = 4.6\n",
    "population_mean1 = 5\n",
    "std1=0.8\n",
    "alpha1 = 0.05\n",
    "t_score = (n1 - sample_mean1)/(std1/np.sqrt(n1))\n",
    "degree_freedom = n1-1\n",
    "t_critical = stats.t.ppf(alpha,degree_freedom)\n",
    "print(\"The t score is\",t_score,\"and the critical value is\",t_critical)\n"
   ]
  },
  {
   "cell_type": "code",
   "execution_count": 6,
   "id": "3f3754a6-cb06-4eaf-b0c7-8e1581572c48",
   "metadata": {},
   "outputs": [
    {
     "name": "stdout",
     "output_type": "stream",
     "text": [
      "There is insufficient evidence to suggest that the average time for customers is less than 5 minutes. Fail to reject the null hypothesis.\n"
     ]
    }
   ],
   "source": [
    "if t_score<t_critical:\n",
    "    print(\"There is sufficient evidence to suggest that the average wait time for customers is less than 5 minutes.Reject the null hypothesis.\")\n",
    "else:\n",
    "    print(\"There is insufficient evidence to suggest that the average time for customers is less than 5 minutes. Fail to reject the null hypothesis.\")"
   ]
  },
  {
   "cell_type": "code",
   "execution_count": null,
   "id": "559041eb-d836-4046-9bca-9c1201a947a8",
   "metadata": {},
   "outputs": [],
   "source": []
  }
 ],
 "metadata": {
  "kernelspec": {
   "display_name": "Python 3 (ipykernel)",
   "language": "python",
   "name": "python3"
  },
  "language_info": {
   "codemirror_mode": {
    "name": "ipython",
    "version": 3
   },
   "file_extension": ".py",
   "mimetype": "text/x-python",
   "name": "python",
   "nbconvert_exporter": "python",
   "pygments_lexer": "ipython3",
   "version": "3.12.1"
  }
 },
 "nbformat": 4,
 "nbformat_minor": 5
}
